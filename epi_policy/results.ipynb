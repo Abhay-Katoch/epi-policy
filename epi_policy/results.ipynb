{
 "cells": [
  {
   "cell_type": "code",
   "execution_count": 32,
   "metadata": {},
   "outputs": [],
   "source": [
    "%load_ext autoreload\n",
    "%autoreload 2"
   ]
  },
  {
   "cell_type": "code",
   "execution_count": 1,
   "metadata": {},
   "outputs": [],
   "source": [
    "import numpy as np\n",
    "import pandas as pd\n",
    "from matplotlib import pyplot as plt\n",
    "\n",
    "from epi_policy.model import EpiModel\n"
   ]
  },
  {
   "cell_type": "code",
   "execution_count": 2,
   "metadata": {},
   "outputs": [
    {
     "ename": "NameError",
     "evalue": "name 'EpiModel' is not defined",
     "output_type": "error",
     "traceback": [
      "\u001b[0;31m---------------------------------------------------------------------------\u001b[0m",
      "\u001b[0;31mNameError\u001b[0m                                 Traceback (most recent call last)",
      "Cell \u001b[0;32mIn[2], line 5\u001b[0m\n\u001b[1;32m      2\u001b[0m np\u001b[38;5;241m.\u001b[39mrandom\u001b[38;5;241m.\u001b[39mseed(\u001b[38;5;241m0\u001b[39m)\n\u001b[1;32m      3\u001b[0m days \u001b[38;5;241m=\u001b[39m \u001b[38;5;241m365\u001b[39m\n\u001b[0;32m----> 5\u001b[0m base_model \u001b[38;5;241m=\u001b[39m \u001b[43mEpiModel\u001b[49m(\u001b[38;5;124m\"\u001b[39m\u001b[38;5;124m/Users/abhay/Documents/XLab/epi-policy/data/metapopulation-inputs-master.xlsx\u001b[39m\u001b[38;5;124m\"\u001b[39m) \u001b[38;5;66;03m# type: ignore\u001b[39;00m\n\u001b[1;32m      6\u001b[0m base_model\u001b[38;5;241m.\u001b[39mgenerate_beta(work_travel_mixing \u001b[38;5;241m=\u001b[39m \u001b[38;5;28;01mNone\u001b[39;00m)\n\u001b[1;32m      7\u001b[0m base_model\u001b[38;5;241m.\u001b[39minitialize_state(days)\n",
      "\u001b[0;31mNameError\u001b[0m: name 'EpiModel' is not defined"
     ]
    }
   ],
   "source": [
    "# Figure 1 - Marginal Benefit of ESS w/o heterogeneity\n",
    "np.random.seed(0)\n",
    "days = 365\n",
    "\n",
    "base_model = EpiModel(\"/Users/abhay/Documents/XLab/epi-policy/data/metapopulation-inputs-master.xlsx\") # type: ignore\n",
    "base_model.generate_beta(work_travel_mixing = None)\n",
    "base_model.initialize_state(days)\n",
    "base_model.run_simulation(days)\n",
    "\n",
    "base_model.results"
   ]
  },
  {
   "cell_type": "code",
   "execution_count": 5,
   "metadata": {},
   "outputs": [
    {
     "name": "stderr",
     "output_type": "stream",
     "text": [
      "/Users/abhay/Documents/XLab/epi-policy/epi-policy/model.py:161: FutureWarning: The behavior of DataFrame concatenation with empty or all-NA entries is deprecated. In a future version, this will no longer exclude empty or all-NA columns when determining the result dtypes. To retain the old behavior, exclude the relevant entries before the concat operation.\n",
      "  self.results = pd.concat([self.results, pd.DataFrame(outputs, columns = columns)])\n"
     ]
    },
    {
     "data": {
      "text/html": [
       "<div>\n",
       "<style scoped>\n",
       "    .dataframe tbody tr th:only-of-type {\n",
       "        vertical-align: middle;\n",
       "    }\n",
       "\n",
       "    .dataframe tbody tr th {\n",
       "        vertical-align: top;\n",
       "    }\n",
       "\n",
       "    .dataframe thead th {\n",
       "        text-align: right;\n",
       "    }\n",
       "</style>\n",
       "<table border=\"1\" class=\"dataframe\">\n",
       "  <thead>\n",
       "    <tr style=\"text-align: right;\">\n",
       "      <th></th>\n",
       "      <th>day</th>\n",
       "      <th>jurisdiction</th>\n",
       "      <th>NPI</th>\n",
       "      <th>S</th>\n",
       "      <th>E</th>\n",
       "      <th>P</th>\n",
       "      <th>I</th>\n",
       "      <th>A</th>\n",
       "      <th>R</th>\n",
       "      <th>D</th>\n",
       "    </tr>\n",
       "  </thead>\n",
       "  <tbody>\n",
       "    <tr>\n",
       "      <th>0</th>\n",
       "      <td>0.0</td>\n",
       "      <td>0.0</td>\n",
       "      <td>0.0</td>\n",
       "      <td>999738.0</td>\n",
       "      <td>62.0</td>\n",
       "      <td>0.0</td>\n",
       "      <td>179.0</td>\n",
       "      <td>0.0</td>\n",
       "      <td>21.0</td>\n",
       "      <td>2.0</td>\n",
       "    </tr>\n",
       "    <tr>\n",
       "      <th>1</th>\n",
       "      <td>0.0</td>\n",
       "      <td>1.0</td>\n",
       "      <td>0.0</td>\n",
       "      <td>999744.0</td>\n",
       "      <td>56.0</td>\n",
       "      <td>0.0</td>\n",
       "      <td>179.0</td>\n",
       "      <td>0.0</td>\n",
       "      <td>21.0</td>\n",
       "      <td>0.0</td>\n",
       "    </tr>\n",
       "    <tr>\n",
       "      <th>2</th>\n",
       "      <td>0.0</td>\n",
       "      <td>2.0</td>\n",
       "      <td>0.0</td>\n",
       "      <td>999752.0</td>\n",
       "      <td>48.0</td>\n",
       "      <td>0.0</td>\n",
       "      <td>176.0</td>\n",
       "      <td>0.0</td>\n",
       "      <td>24.0</td>\n",
       "      <td>0.0</td>\n",
       "    </tr>\n",
       "    <tr>\n",
       "      <th>3</th>\n",
       "      <td>0.0</td>\n",
       "      <td>3.0</td>\n",
       "      <td>0.0</td>\n",
       "      <td>999761.0</td>\n",
       "      <td>39.0</td>\n",
       "      <td>0.0</td>\n",
       "      <td>175.0</td>\n",
       "      <td>0.0</td>\n",
       "      <td>25.0</td>\n",
       "      <td>0.0</td>\n",
       "    </tr>\n",
       "    <tr>\n",
       "      <th>4</th>\n",
       "      <td>0.0</td>\n",
       "      <td>4.0</td>\n",
       "      <td>0.0</td>\n",
       "      <td>999757.0</td>\n",
       "      <td>43.0</td>\n",
       "      <td>0.0</td>\n",
       "      <td>173.0</td>\n",
       "      <td>0.0</td>\n",
       "      <td>27.0</td>\n",
       "      <td>0.0</td>\n",
       "    </tr>\n",
       "    <tr>\n",
       "      <th>...</th>\n",
       "      <td>...</td>\n",
       "      <td>...</td>\n",
       "      <td>...</td>\n",
       "      <td>...</td>\n",
       "      <td>...</td>\n",
       "      <td>...</td>\n",
       "      <td>...</td>\n",
       "      <td>...</td>\n",
       "      <td>...</td>\n",
       "      <td>...</td>\n",
       "    </tr>\n",
       "    <tr>\n",
       "      <th>1</th>\n",
       "      <td>363.0</td>\n",
       "      <td>1.0</td>\n",
       "      <td>4.0</td>\n",
       "      <td>714822.0</td>\n",
       "      <td>2181.0</td>\n",
       "      <td>2342.0</td>\n",
       "      <td>3104.0</td>\n",
       "      <td>1726.0</td>\n",
       "      <td>275825.0</td>\n",
       "      <td>1201.0</td>\n",
       "    </tr>\n",
       "    <tr>\n",
       "      <th>2</th>\n",
       "      <td>363.0</td>\n",
       "      <td>2.0</td>\n",
       "      <td>3.0</td>\n",
       "      <td>712425.0</td>\n",
       "      <td>2825.0</td>\n",
       "      <td>2874.0</td>\n",
       "      <td>3287.0</td>\n",
       "      <td>1790.0</td>\n",
       "      <td>276799.0</td>\n",
       "      <td>1291.0</td>\n",
       "    </tr>\n",
       "    <tr>\n",
       "      <th>3</th>\n",
       "      <td>363.0</td>\n",
       "      <td>3.0</td>\n",
       "      <td>3.0</td>\n",
       "      <td>718841.0</td>\n",
       "      <td>2711.0</td>\n",
       "      <td>2633.0</td>\n",
       "      <td>3106.0</td>\n",
       "      <td>1628.0</td>\n",
       "      <td>271081.0</td>\n",
       "      <td>1218.0</td>\n",
       "    </tr>\n",
       "    <tr>\n",
       "      <th>4</th>\n",
       "      <td>363.0</td>\n",
       "      <td>4.0</td>\n",
       "      <td>4.0</td>\n",
       "      <td>720355.0</td>\n",
       "      <td>2185.0</td>\n",
       "      <td>2392.0</td>\n",
       "      <td>3233.0</td>\n",
       "      <td>1674.0</td>\n",
       "      <td>270161.0</td>\n",
       "      <td>1278.0</td>\n",
       "    </tr>\n",
       "    <tr>\n",
       "      <th>5</th>\n",
       "      <td>363.0</td>\n",
       "      <td>5.0</td>\n",
       "      <td>3.0</td>\n",
       "      <td>719970.0</td>\n",
       "      <td>2906.0</td>\n",
       "      <td>2884.0</td>\n",
       "      <td>3331.0</td>\n",
       "      <td>1805.0</td>\n",
       "      <td>269104.0</td>\n",
       "      <td>1222.0</td>\n",
       "    </tr>\n",
       "  </tbody>\n",
       "</table>\n",
       "<p>2184 rows × 10 columns</p>\n",
       "</div>"
      ],
      "text/plain": [
       "      day  jurisdiction  NPI         S       E       P       I       A  \\\n",
       "0     0.0           0.0  0.0  999738.0    62.0     0.0   179.0     0.0   \n",
       "1     0.0           1.0  0.0  999744.0    56.0     0.0   179.0     0.0   \n",
       "2     0.0           2.0  0.0  999752.0    48.0     0.0   176.0     0.0   \n",
       "3     0.0           3.0  0.0  999761.0    39.0     0.0   175.0     0.0   \n",
       "4     0.0           4.0  0.0  999757.0    43.0     0.0   173.0     0.0   \n",
       "..    ...           ...  ...       ...     ...     ...     ...     ...   \n",
       "1   363.0           1.0  4.0  714822.0  2181.0  2342.0  3104.0  1726.0   \n",
       "2   363.0           2.0  3.0  712425.0  2825.0  2874.0  3287.0  1790.0   \n",
       "3   363.0           3.0  3.0  718841.0  2711.0  2633.0  3106.0  1628.0   \n",
       "4   363.0           4.0  4.0  720355.0  2185.0  2392.0  3233.0  1674.0   \n",
       "5   363.0           5.0  3.0  719970.0  2906.0  2884.0  3331.0  1805.0   \n",
       "\n",
       "           R       D  \n",
       "0       21.0     2.0  \n",
       "1       21.0     0.0  \n",
       "2       24.0     0.0  \n",
       "3       25.0     0.0  \n",
       "4       27.0     0.0  \n",
       "..       ...     ...  \n",
       "1   275825.0  1201.0  \n",
       "2   276799.0  1291.0  \n",
       "3   271081.0  1218.0  \n",
       "4   270161.0  1278.0  \n",
       "5   269104.0  1222.0  \n",
       "\n",
       "[2184 rows x 10 columns]"
      ]
     },
     "execution_count": 5,
     "metadata": {},
     "output_type": "execute_result"
    }
   ],
   "source": [
    "# Figure 1 - Marginal Benefit of ESS w/o heterogeneity\n",
    "np.random.seed(0)\n",
    "days = 365\n",
    "\n",
    "model2 = EpiModel(\"/Users/abhay/Documents/XLab/epi-policy/data/metapopulation-inputs-master-2.xlsx\") # type: ignore\n",
    "model2.generate_beta(work_travel_mixing = None)\n",
    "model2.initialize_state(days)\n",
    "model2.run_simulation(days)\n",
    "model2.results"
   ]
  },
  {
   "cell_type": "code",
   "execution_count": 26,
   "metadata": {},
   "outputs": [
    {
     "name": "stderr",
     "output_type": "stream",
     "text": [
      "/Users/abhay/Documents/XLab/epi-policy/epi-policy/model.py:161: FutureWarning: The behavior of DataFrame concatenation with empty or all-NA entries is deprecated. In a future version, this will no longer exclude empty or all-NA columns when determining the result dtypes. To retain the old behavior, exclude the relevant entries before the concat operation.\n",
      "  self.results = pd.concat([self.results, pd.DataFrame(outputs, columns = columns)])\n"
     ]
    }
   ],
   "source": [
    "# Figure 1 - Marginal Benefit of ESS w/o heterogeneity\n",
    "np.random.seed(0)\n",
    "days = 365\n",
    "\n",
    "model3 = EpiModel(\"/Users/abhay/Documents/XLab/epi-policy/data/metapopulation-inputs-master.xlsx\") # type: ignore\n",
    "model3.generate_beta(work_travel_mixing = None)\n",
    "model3.initialize_state(days)\n",
    "model3.survey_lag = np.array([6, 6, 6, 6, 13, 13])\n",
    "model3.run_simulation(days)\n",
    "#model3.results"
   ]
  },
  {
   "cell_type": "code",
   "execution_count": 24,
   "metadata": {},
   "outputs": [
    {
     "data": {
      "text/plain": [
       "[<matplotlib.lines.Line2D at 0x104d884d0>]"
      ]
     },
     "execution_count": 24,
     "metadata": {},
     "output_type": "execute_result"
    },
    {
     "data": {
      "image/png": "[encoded data removed]",
      "text/plain": [
       "<Figure size 640x480 with 1 Axes>"
      ]
     },
     "metadata": {},
     "output_type": "display_data"
    }
   ],
   "source": [
    "base_model_j1 = base_model.results[base_model.results[\"jurisdiction\"] == 1]\n",
    "model2_j1 = model2.results[model2.results[\"jurisdiction\"] == 1]\n",
    "model3_j1 = model3.results[model3.results[\"jurisdiction\"] == 1]\n",
    "\n",
    "plt.plot(base_model_j1[\"day\"], base_model_j1[\"D\"])\n",
    "plt.plot(model2_j1[\"day\"], model2_j1[\"D\"])\n",
    "plt.plot(model3_j1[\"day\"], base_model_j1[\"D\"])"
   ]
  },
  {
   "cell_type": "code",
   "execution_count": 20,
   "metadata": {},
   "outputs": [
    {
     "data": {
      "text/plain": [
       "[<matplotlib.lines.Line2D at 0x104b8df10>]"
      ]
     },
     "execution_count": 20,
     "metadata": {},
     "output_type": "execute_result"
    },
    {
     "data": {
      "image/png": "[encoded data removed]",
      "text/plain": [
       "<Figure size 640x480 with 1 Axes>"
      ]
     },
     "metadata": {},
     "output_type": "display_data"
    }
   ],
   "source": [
    "base_model_deaths = base_model.results.groupby('day')[\"D\"].mean()\n",
    "model2_deaths = model2.results.groupby('day')[\"D\"].mean()\n",
    "model3_deaths = model3.results.groupby('day')[\"D\"].mean()\n",
    "\n",
    "\n",
    "plt.plot(base_model_deaths)\n",
    "plt.plot(model2_deaths)\n",
    "plt.plot(model3_deaths)"
   ]
  }
 ],
 "metadata": {
  "kernelspec": {
   "display_name": "Python 3",
   "language": "python",
   "name": "python3"
  },
  "language_info": {
   "codemirror_mode": {
    "name": "ipython",
    "version": 3
   },
   "file_extension": ".py",
   "mimetype": "text/x-python",
   "name": "python",
   "nbconvert_exporter": "python",
   "pygments_lexer": "ipython3",
   "version": "3.11.4"
  }
 },
 "nbformat": 4,
 "nbformat_minor": 2
}
